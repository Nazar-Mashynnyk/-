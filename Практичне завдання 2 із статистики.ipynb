{
 "cells": [
  {
   "cell_type": "code",
   "execution_count": 4,
   "metadata": {},
   "outputs": [
    {
     "name": "stdout",
     "output_type": "stream",
     "text": [
      "Середнє значення: 0.38721818181818185\n",
      "Дисперсія: 0.02585515239669421\n",
      "Середнє квадратичне відхилення: 0.16079537430129703\n",
      "Емпіричні частоти можна знайти за допомогою методу np.histogram, передавши йому дані і діапазон для них, обчислений за допомогою формули Стерджеса\n",
      "Теоретичні частоти можна знайти за допомогою методу np.diff, передавши йому розподіл даних\n",
      "x_набл можна знайти за допомогою методу формули, вказаної в документі\n",
      "х_кр можна знайти за допомогою методу scipy.stats.chi2.ppf, який повертає табличне значення критичної точки для вказаного рівня значимості і ступенів свободи\n",
      "x_набл=9.662012733951556; x_кр=12.591587243743977\n",
      "x_набл<x_кр, тому немає підстав відкинути гіпотезу про нормальний розподіл генеральної сукупності\n"
     ]
    }
   ],
   "source": [
    "import numpy as np\n",
    "import pandas as pd\n",
    "import math as m\n",
    "from scipy.stats import norm\n",
    "from scipy.stats import chi2\n",
    "\n",
    "data=pd.read_csv('d.csv',delimiter='\\t')['Вар.№4'].sort_values()\n",
    "print(f\"Середнє значення: {np.mean(data)}\")\n",
    "print(f\"Дисперсія: {np.var(data)}\")\n",
    "print(f\"Середнє квадратичне відхилення: {np.std(data)}\")\n",
    "real_freq,_=np.histogram(data, bins=np.linspace(data[data.index[0]], data[data.index[-1]], 1+int(m.log2(len(data)))))\n",
    "exp_freq=np.diff(norm.cdf(np.linspace(data[data.index[0]], data[data.index[-1]], 1+int(m.log2(len(data)))), np.mean(data), np.std(data))) * len(data)\n",
    "chi_st,chi_kr = np.sum((real_freq - exp_freq)**2 / exp_freq),chi2.ppf(.95, int(m.log2(len(data))))\n",
    "print(\"Емпіричні частоти можна знайти за допомогою методу np.histogram, передавши йому дані і діапазон для них, обчислений за допомогою формули Стерджеса\")\n",
    "print(\"Теоретичні частоти можна знайти за допомогою методу np.diff, передавши йому розподіл даних\")\n",
    "print(\"x_набл можна знайти за допомогою методу формули, вказаної в документі\")\n",
    "print(\"х_кр можна знайти за допомогою методу scipy.stats.chi2.ppf, який повертає табличне значення критичної точки для вказаного рівня значимості і ступенів свободи\")\n",
    "print(f\"x_набл={chi_st}; x_кр={chi_kr}\")\n",
    "print(f\"x_набл<x_кр, тому немає підстав відкинути гіпотезу про нормальний розподіл генеральної сукупності\")"
   ]
  },
  {
   "cell_type": "code",
   "execution_count": null,
   "metadata": {},
   "outputs": [],
   "source": []
  }
 ],
 "metadata": {
  "kernelspec": {
   "display_name": "Python 3",
   "language": "python",
   "name": "python3"
  },
  "language_info": {
   "codemirror_mode": {
    "name": "ipython",
    "version": 3
   },
   "file_extension": ".py",
   "mimetype": "text/x-python",
   "name": "python",
   "nbconvert_exporter": "python",
   "pygments_lexer": "ipython3",
   "version": "3.9.0"
  }
 },
 "nbformat": 4,
 "nbformat_minor": 2
}
